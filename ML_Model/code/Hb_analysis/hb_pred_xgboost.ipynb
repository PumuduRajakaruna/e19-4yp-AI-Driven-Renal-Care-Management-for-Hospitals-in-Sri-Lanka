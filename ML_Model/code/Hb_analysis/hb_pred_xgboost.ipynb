{
 "cells": [
  {
   "cell_type": "code",
   "execution_count": 55,
   "id": "064dbe50",
   "metadata": {},
   "outputs": [],
   "source": [
    "import pandas as pd"
   ]
  },
  {
   "cell_type": "code",
   "execution_count": 56,
   "id": "9900780f",
   "metadata": {},
   "outputs": [],
   "source": [
    "df = pd.read_excel('../../data_set/monthlyInvestigation/cleaned_monthly_investigations.xlsx')"
   ]
  },
  {
   "cell_type": "code",
   "execution_count": 66,
   "id": "f6253365",
   "metadata": {},
   "outputs": [],
   "source": [
    "df.sort_values(['Subject_ID', 'Month'], inplace=True)\n",
    "\n",
    "# Create the target variable by shifting Hb column backward by 1 month for each patient\n",
    "df['Next_Hb'] = df.groupby('Subject_ID')['Hb (g/dL)'].shift(-1)\n",
    "\n",
    "# Define 3-class risk label:\n",
    "# 0 = Safe (10 ≤ Hb ≤ 12)\n",
    "# 1 = Risk (Hb < 10)\n",
    "# 2 = Risk (Hb > 12)\n",
    "# df['Risk_Label'] = df['Next_Hb'].apply(\n",
    "#     lambda x: 1 if x < 10 else (2 if x > 12 else 0)\n",
    "# )\n",
    "df['Risk_Label'] = df['Next_Hb'].apply(lambda x: 1 if x < 10 or x > 12 else 0)\n",
    "\n",
    "\n",
    "df['Hb_diff'] = df['Hb (g/dL)'] - df.groupby('Subject_ID')['Hb (g/dL)'].shift(1)\n",
    "\n",
    "df = df.dropna(subset=['Next_Hb', 'Risk_Label'])\n",
    "\n",
    "\n",
    "feature_cols = [\n",
    "    'Albumin (g/L)', 'BU - post HD', 'BU - pre HD', 'S Ca (mmol/L)',\n",
    "    'SCR- post HD (µmol/L)', 'SCR- pre HD (µmol/L)',\n",
    "    'Serum K Post-HD (mmol/L)', 'Serum K Pre-HD (mmol/L)',\n",
    "    'Serum Na Pre-HD (mmol/L)', 'UA (mg/dL)', 'Hb_diff', 'Hb (g/dL)'\n",
    "]\n",
    "\n",
    "from sklearn.model_selection import GroupShuffleSplit\n",
    "\n",
    "gss = GroupShuffleSplit(n_splits=1, test_size=0.2, random_state=42)\n",
    "train_idx, test_idx = next(gss.split(df, groups=df['Subject_ID']))\n",
    "\n",
    "X_train = df.iloc[train_idx][feature_cols]\n",
    "y_train = df.iloc[train_idx]['Risk_Label']\n",
    "\n",
    "X_test = df.iloc[test_idx][feature_cols]\n",
    "y_test = df.iloc[test_idx]['Risk_Label']"
   ]
  },
  {
   "cell_type": "code",
   "execution_count": 67,
   "id": "73de178e",
   "metadata": {},
   "outputs": [
    {
     "name": "stderr",
     "output_type": "stream",
     "text": [
      "c:\\Users\\User\\AppData\\Local\\Programs\\Python\\Python310\\lib\\site-packages\\xgboost\\training.py:183: UserWarning: [13:07:13] WARNING: C:\\actions-runner\\_work\\xgboost\\xgboost\\src\\learner.cc:738: \n",
      "Parameters: { \"use_label_encoder\" } are not used.\n",
      "\n",
      "  bst.update(dtrain, iteration=i, fobj=obj)\n"
     ]
    },
    {
     "name": "stdout",
     "output_type": "stream",
     "text": [
      "\n",
      "Confusion Matrix:\n",
      " [[10  6]\n",
      " [27 25]]\n",
      "\n",
      "Classification Report:\n",
      "               precision    recall  f1-score   support\n",
      "\n",
      "           0       0.27      0.62      0.38        16\n",
      "           1       0.81      0.48      0.60        52\n",
      "\n",
      "    accuracy                           0.51        68\n",
      "   macro avg       0.54      0.55      0.49        68\n",
      "weighted avg       0.68      0.51      0.55        68\n",
      "\n"
     ]
    }
   ],
   "source": [
    "from xgboost import XGBClassifier\n",
    "from sklearn.utils.class_weight import compute_sample_weight\n",
    "from sklearn.metrics import classification_report, confusion_matrix\n",
    "\n",
    "# Compute sample weights for class imbalance\n",
    "sample_weights = compute_sample_weight(class_weight='balanced', y=y_train)\n",
    "\n",
    "# XGBoost classifier with manually specified hyperparameters\n",
    "xgb_model = XGBClassifier(\n",
    "    objective='multi:softmax',\n",
    "    num_class=3,\n",
    "    use_label_encoder=False,\n",
    "    eval_metric='mlogloss',\n",
    "    learning_rate=0.01,\n",
    "    max_depth=5,\n",
    "    n_estimators=100,\n",
    "    subsample=1.0,\n",
    "    colsample_bytree=1.0,\n",
    "    random_state=42\n",
    ")\n",
    "\n",
    "# Train model\n",
    "xgb_model.fit(X_train, y_train, sample_weight=sample_weights)\n",
    "\n",
    "# Predict\n",
    "y_pred = xgb_model.predict(X_test)\n",
    "\n",
    "# Evaluation\n",
    "print(\"\\nConfusion Matrix:\\n\", confusion_matrix(y_test, y_pred))\n",
    "print(\"\\nClassification Report:\\n\", classification_report(y_test, y_pred))\n"
   ]
  }
 ],
 "metadata": {
  "kernelspec": {
   "display_name": "Python 3",
   "language": "python",
   "name": "python3"
  },
  "language_info": {
   "codemirror_mode": {
    "name": "ipython",
    "version": 3
   },
   "file_extension": ".py",
   "mimetype": "text/x-python",
   "name": "python",
   "nbconvert_exporter": "python",
   "pygments_lexer": "ipython3",
   "version": "3.10.0"
  }
 },
 "nbformat": 4,
 "nbformat_minor": 5
}
