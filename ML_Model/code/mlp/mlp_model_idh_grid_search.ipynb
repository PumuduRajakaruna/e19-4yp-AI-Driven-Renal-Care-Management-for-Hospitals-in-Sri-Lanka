{
 "cells": [
  {
   "cell_type": "code",
   "execution_count": 1,
   "id": "f9f52603",
   "metadata": {},
   "outputs": [],
   "source": [
    "\n",
    "import pandas as pd\n",
    "from imblearn.over_sampling import SMOTE\n",
    "from sklearn.model_selection import train_test_split\n",
    "\n",
    "\n",
    "df = pd.read_excel('../../data_set/hd_sessions/data_cleaned.xlsx')"
   ]
  },
  {
   "cell_type": "code",
   "execution_count": 2,
   "id": "7aeb212d",
   "metadata": {},
   "outputs": [
    {
     "name": "stdout",
     "output_type": "stream",
     "text": [
      "<class 'pandas.core.frame.DataFrame'>\n",
      "RangeIndex: 3856 entries, 0 to 3855\n",
      "Data columns (total 16 columns):\n",
      " #   Column               Non-Null Count  Dtype         \n",
      "---  ------               --------------  -----         \n",
      " 0   Subject_ID           3856 non-null   object        \n",
      " 1   Session_No           3856 non-null   object        \n",
      " 2   Date                 3843 non-null   datetime64[ns]\n",
      " 3   AP (mmHg)            3856 non-null   float64       \n",
      " 4   AUF (ml)             3856 non-null   float64       \n",
      " 5   BFR (ml/min)         3856 non-null   float64       \n",
      " 6   Dry weight (kg)      3856 non-null   float64       \n",
      " 7   HD duration (h)      3856 non-null   float64       \n",
      " 8   PUF (ml)             3856 non-null   float64       \n",
      " 9   Post HD weight (kg)  3856 non-null   float64       \n",
      " 10  Pre HD weight (kg)   3856 non-null   float64       \n",
      " 11  TMP (mmHg)           3856 non-null   float64       \n",
      " 12  VP (mmHg)            3856 non-null   int64         \n",
      " 13  Weight gain (kg)     3856 non-null   float64       \n",
      " 14  SYS (mmHg)           3856 non-null   float64       \n",
      " 15  DIA (mmHg)           3856 non-null   float64       \n",
      "dtypes: datetime64[ns](1), float64(12), int64(1), object(2)\n",
      "memory usage: 482.1+ KB\n"
     ]
    }
   ],
   "source": [
    "df.info()"
   ]
  },
  {
   "cell_type": "code",
   "execution_count": 3,
   "id": "817c3a07",
   "metadata": {},
   "outputs": [],
   "source": [
    "df['target'] = df['SYS (mmHg)'].apply(lambda x: 1 if x <= 90 else 0)"
   ]
  },
  {
   "cell_type": "code",
   "execution_count": 4,
   "id": "59507168",
   "metadata": {},
   "outputs": [],
   "source": [
    "df.drop(columns=['SYS (mmHg)'], inplace=True)"
   ]
  },
  {
   "cell_type": "code",
   "execution_count": 5,
   "id": "524904e4",
   "metadata": {},
   "outputs": [],
   "source": [
    "X = df.drop(columns=['target', 'Subject_ID', 'Session_No', 'Date']) \n",
    "y = df['target']     "
   ]
  },
  {
   "cell_type": "code",
   "execution_count": 6,
   "id": "7755aba0",
   "metadata": {},
   "outputs": [
    {
     "data": {
      "text/plain": [
       "Index(['AP (mmHg)', 'AUF (ml)', 'BFR (ml/min)', 'Dry weight (kg)',\n",
       "       'HD duration (h)', 'PUF (ml)', 'Post HD weight (kg)',\n",
       "       'Pre HD weight (kg)', 'TMP (mmHg)', 'VP (mmHg)', 'Weight gain (kg)',\n",
       "       'DIA (mmHg)'],\n",
       "      dtype='object')"
      ]
     },
     "execution_count": 6,
     "metadata": {},
     "output_type": "execute_result"
    }
   ],
   "source": [
    "X.columns"
   ]
  },
  {
   "cell_type": "code",
   "execution_count": 7,
   "id": "4d09d3ee",
   "metadata": {},
   "outputs": [],
   "source": [
    "X_train, X_test, y_train, y_test = train_test_split(X, y, stratify=y, test_size=0.2, random_state=42)"
   ]
  },
  {
   "cell_type": "code",
   "execution_count": 8,
   "id": "4ca2446d",
   "metadata": {},
   "outputs": [],
   "source": [
    "from sklearn.preprocessing import StandardScaler\n",
    "\n",
    "scaler = StandardScaler()\n",
    "X_train_scaled = scaler.fit_transform(X_train) \n",
    "X_test_scaled = scaler.transform(X_test) "
   ]
  },
  {
   "cell_type": "code",
   "execution_count": 9,
   "id": "7f50f464",
   "metadata": {},
   "outputs": [
    {
     "name": "stdout",
     "output_type": "stream",
     "text": [
      "Class distribution before balancing:\n",
      "target\n",
      "0    3073\n",
      "1      11\n",
      "Name: count, dtype: int64\n"
     ]
    }
   ],
   "source": [
    "balanced_class_distribution = y_train.value_counts()\n",
    "print(\"Class distribution before balancing:\")\n",
    "print(balanced_class_distribution)\n"
   ]
  },
  {
   "cell_type": "code",
   "execution_count": 10,
   "id": "492df99d",
   "metadata": {},
   "outputs": [],
   "source": [
    "smote = SMOTE(random_state=42, sampling_strategy='auto')\n",
    "X_train_resampled, y_train_resampled = smote.fit_resample(X_train_scaled, y_train)"
   ]
  },
  {
   "cell_type": "code",
   "execution_count": 11,
   "id": "d24fbe75",
   "metadata": {},
   "outputs": [
    {
     "name": "stdout",
     "output_type": "stream",
     "text": [
      "Class distribution after balancing:\n",
      "target\n",
      "0    3073\n",
      "1    3073\n",
      "Name: count, dtype: int64\n"
     ]
    }
   ],
   "source": [
    "balanced_class_distribution = y_train_resampled.value_counts()\n",
    "print(\"Class distribution after balancing:\")\n",
    "print(balanced_class_distribution)"
   ]
  },
  {
   "cell_type": "code",
   "execution_count": 12,
   "id": "1ab6e52c",
   "metadata": {},
   "outputs": [
    {
     "name": "stdout",
     "output_type": "stream",
     "text": [
      "Fitting 5 folds for each of 64 candidates, totalling 320 fits\n",
      "Best parameters found: {'activation': 'relu', 'alpha': 0.0001, 'hidden_layer_sizes': (64,), 'learning_rate': 'constant', 'max_iter': 300, 'solver': 'adam'}\n",
      "Best ROC AUC score: 0.9990132676571065\n",
      "Accuracy: 0.9896373056994818\n",
      "Classification Report:\n",
      "               precision    recall  f1-score   support\n",
      "\n",
      "           0       1.00      0.99      0.99       769\n",
      "           1       0.22      0.67      0.33         3\n",
      "\n",
      "    accuracy                           0.99       772\n",
      "   macro avg       0.61      0.83      0.66       772\n",
      "weighted avg       1.00      0.99      0.99       772\n",
      "\n",
      "Confusion Matrix:\n",
      " [[762   7]\n",
      " [  1   2]]\n",
      "ROC AUC Score: 0.9111400086692674\n"
     ]
    },
    {
     "data": {
      "image/png": "[encoded data removed]",
      "text/plain": [
       "<Figure size 640x480 with 2 Axes>"
      ]
     },
     "metadata": {},
     "output_type": "display_data"
    },
    {
     "data": {
      "image/png": "[encoded data removed]",
      "text/plain": [
       "<Figure size 640x480 with 1 Axes>"
      ]
     },
     "metadata": {},
     "output_type": "display_data"
    }
   ],
   "source": [
    "from sklearn.neural_network import MLPClassifier\n",
    "from sklearn.metrics import accuracy_score, classification_report, confusion_matrix, roc_auc_score, roc_curve\n",
    "import matplotlib.pyplot as plt\n",
    "import seaborn as sns\n",
    "from sklearn.model_selection import GridSearchCV\n",
    "from sklearn.neural_network import MLPClassifier\n",
    "\n",
    "# # Define and train the MLP model\n",
    "# mlp = MLPClassifier(hidden_layer_sizes=(64, 32), activation='relu', solver='adam', max_iter=300, random_state=42)\n",
    "# mlp.fit(X_train_resampled, y_train_resampled)\n",
    "\n",
    "# # Predict on test set\n",
    "# y_pred = mlp.predict(X_test_scaled)\n",
    "# y_prob = mlp.predict_proba(X_test_scaled)[:, 1]  # for ROC AUC\n",
    "\n",
    "# Define parameter grid\n",
    "param_grid = {\n",
    "    'hidden_layer_sizes': [(32,), (64,), (64, 32), (128, 64)],\n",
    "    'activation': ['relu', 'tanh'],\n",
    "    'solver': ['adam', 'sgd'],\n",
    "    'alpha': [0.0001, 0.001],\n",
    "    'learning_rate': ['constant', 'adaptive'],\n",
    "    'max_iter': [300]\n",
    "}\n",
    "\n",
    "mlp = MLPClassifier(random_state=42)\n",
    "\n",
    "# Use GridSearchCV\n",
    "grid_search = GridSearchCV(\n",
    "    estimator=mlp,\n",
    "    param_grid=param_grid,\n",
    "    scoring='roc_auc',\n",
    "    cv=5,\n",
    "    n_jobs=-1,\n",
    "    verbose=2\n",
    ")\n",
    "\n",
    "grid_search.fit(X_train_resampled, y_train_resampled)\n",
    "\n",
    "print(\"Best parameters found:\", grid_search.best_params_)\n",
    "print(\"Best ROC AUC score:\", grid_search.best_score_)\n",
    "\n",
    "# Use the best estimator to predict\n",
    "best_mlp = grid_search.best_estimator_\n",
    "y_pred = best_mlp.predict(X_test_scaled)\n",
    "y_prob = best_mlp.predict_proba(X_test_scaled)[:, 1]\n",
    "\n",
    "# Evaluation\n",
    "print(\"Accuracy:\", accuracy_score(y_test, y_pred))\n",
    "print(\"Classification Report:\\n\", classification_report(y_test, y_pred))\n",
    "print(\"Confusion Matrix:\\n\", confusion_matrix(y_test, y_pred))\n",
    "print(\"ROC AUC Score:\", roc_auc_score(y_test, y_prob))\n",
    "\n",
    "# Plot Confusion Matrix\n",
    "sns.heatmap(confusion_matrix(y_test, y_pred), annot=True, fmt='d', cmap='Blues')\n",
    "plt.title(\"Confusion Matrix\")\n",
    "plt.xlabel(\"Predicted\")\n",
    "plt.ylabel(\"Actual\")\n",
    "plt.show()\n",
    "\n",
    "# Plot ROC Curve\n",
    "fpr, tpr, thresholds = roc_curve(y_test, y_prob)\n",
    "plt.figure()\n",
    "plt.plot(fpr, tpr, label=f'ROC Curve (AUC = {roc_auc_score(y_test, y_prob):.2f})')\n",
    "plt.plot([0, 1], [0, 1], 'k--') \n",
    "plt.xlabel('False Positive Rate')\n",
    "plt.ylabel('True Positive Rate')\n",
    "plt.title('ROC Curve')\n",
    "plt.legend(loc='lower right')\n",
    "plt.grid()\n",
    "plt.show()\n"
   ]
  },
  {
   "cell_type": "code",
   "execution_count": null,
   "id": "e31d9769",
   "metadata": {},
   "outputs": [],
   "source": []
  }
 ],
 "metadata": {
  "kernelspec": {
   "display_name": "Python 3",
   "language": "python",
   "name": "python3"
  },
  "language_info": {
   "codemirror_mode": {
    "name": "ipython",
    "version": 3
   },
   "file_extension": ".py",
   "mimetype": "text/x-python",
   "name": "python",
   "nbconvert_exporter": "python",
   "pygments_lexer": "ipython3",
   "version": "3.12.0"
  }
 },
 "nbformat": 4,
 "nbformat_minor": 5
}
