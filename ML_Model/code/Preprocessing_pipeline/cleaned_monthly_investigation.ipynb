{
 "cells": [
  {
   "cell_type": "code",
   "execution_count": 19,
   "id": "346ac9c9",
   "metadata": {},
   "outputs": [],
   "source": [
    "import pandas as pd\n",
    "\n",
    "# Read the Excel file (no need to specify custom na_values)\n",
    "df = pd.read_csv('../../data_set/monthlyInvestigation/monthly_investigations.csv')\n",
    "\n",
    "df.drop(columns=['HCO3 - pre HD (mmol/L)', 'HCO3 -post HD (mmol/L)', 'HbA1C (%)', 'PTH', 'Serum ferritin' , 'Serum iron', 'TSAT', 'Vit D' ,'blood  picture'], inplace=True)\n",
    "\n",
    "# Columns to exclude\n",
    "excluded_columns = ['Subject_ID', 'Month']\n",
    "\n",
    "# Columns to clean\n",
    "columns_to_clean = [col for col in df.columns if col not in excluded_columns]\n",
    "\n",
    "# Convert non-numeric values to NaN in the target columns\n",
    "df[columns_to_clean] = df[columns_to_clean].apply(pd.to_numeric, errors='coerce')\n",
    "\n",
    "# Drop rows where all target columns are zero (ignoring NaN)\n",
    "df = df[~(df[columns_to_clean].fillna(0) == 0).all(axis=1)]\n"
   ]
  },
  {
   "cell_type": "code",
   "execution_count": 20,
   "id": "c32ab1f8",
   "metadata": {},
   "outputs": [],
   "source": [
    "id_column = 'Subject_ID'\n",
    "\n",
    "# Identify columns to interpolate (exclude Subject_ID and Month)\n",
    "columns_to_interpolate = [col for col in df.columns if col not in ['Subject_ID', 'Month']]\n",
    "\n",
    "# Interpolate within each patient group\n",
    "df[columns_to_interpolate] = (\n",
    "    df.groupby(id_column)[columns_to_interpolate]\n",
    "    .apply(lambda group: group.interpolate(method='linear', limit_direction='both'))\n",
    "    .reset_index(drop=True)\n",
    ")"
   ]
  },
  {
   "cell_type": "code",
   "execution_count": 21,
   "id": "781c3fa1",
   "metadata": {},
   "outputs": [],
   "source": [
    "df.to_excel('cleaned_monthly_investigations.xlsx', index=False)"
   ]
  }
 ],
 "metadata": {
  "kernelspec": {
   "display_name": "Python 3",
   "language": "python",
   "name": "python3"
  },
  "language_info": {
   "codemirror_mode": {
    "name": "ipython",
    "version": 3
   },
   "file_extension": ".py",
   "mimetype": "text/x-python",
   "name": "python",
   "nbconvert_exporter": "python",
   "pygments_lexer": "ipython3",
   "version": "3.10.0"
  }
 },
 "nbformat": 4,
 "nbformat_minor": 5
}
