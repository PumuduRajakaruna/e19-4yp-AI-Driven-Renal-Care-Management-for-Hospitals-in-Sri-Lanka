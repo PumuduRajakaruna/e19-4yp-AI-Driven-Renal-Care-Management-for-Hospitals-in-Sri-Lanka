{
 "cells": [
  {
   "cell_type": "code",
   "execution_count": null,
   "id": "34ae8183-a62c-48f2-b8ae-8523a1f44137",
   "metadata": {},
   "outputs": [],
   "source": [
    "import pandas as pd\n",
    "from sklearn.model_selection import train_test_split\n"
   ]
  },
  {
   "cell_type": "code",
   "execution_count": null,
   "id": "69a9b3cc-72df-444b-985e-e3db13b1fea6",
   "metadata": {},
   "outputs": [],
   "source": [
    "df = pd.read_excel('../../data_set/hd_sessions/data_cleaned.xlsx')"
   ]
  },
  {
   "cell_type": "code",
   "execution_count": null,
   "id": "17d91d7e-8642-44b5-ad87-bf48f5524ef9",
   "metadata": {},
   "outputs": [],
   "source": [
    "df.info()"
   ]
  },
  {
   "cell_type": "code",
   "execution_count": null,
   "id": "66519c0b-bd93-41ba-82ca-695497f7c7c4",
   "metadata": {},
   "outputs": [],
   "source": []
  },
  {
   "cell_type": "code",
   "execution_count": null,
   "id": "8fde1c68-de30-45d2-bf00-db72094e5cb8",
   "metadata": {},
   "outputs": [],
   "source": []
  },
  {
   "cell_type": "code",
   "execution_count": null,
   "id": "ccd0f3ae-9139-4046-bed7-1171c984952e",
   "metadata": {},
   "outputs": [],
   "source": []
  }
 ],
 "metadata": {
  "kernelspec": {
   "display_name": "Python 3 (ipykernel)",
   "language": "python",
   "name": "python3"
  },
  "language_info": {
   "codemirror_mode": {
    "name": "ipython",
    "version": 3
   },
   "file_extension": ".py",
   "mimetype": "text/x-python",
   "name": "python",
   "nbconvert_exporter": "python",
   "pygments_lexer": "ipython3",
   "version": "3.12.4"
  }
 },
 "nbformat": 4,
 "nbformat_minor": 5
}
